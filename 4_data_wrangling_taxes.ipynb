{
 "cells": [
  {
   "cell_type": "code",
   "execution_count": 1,
   "metadata": {
    "collapsed": true
   },
   "outputs": [],
   "source": [
    "# This notebook loads and merges the real state related features\n",
    "# At the zip level"
   ]
  },
  {
   "cell_type": "code",
   "execution_count": 58,
   "metadata": {
    "collapsed": true
   },
   "outputs": [],
   "source": [
    "import pandas as pd\n",
    "import geopandas as gpd\n",
    "from geopandas import GeoDataFrame\n",
    "import shapely as sy\n",
    "from shapely.geometry import Point\n",
    "from shapely.geometry import Polygon\n",
    "from shapely.ops import cascaded_union"
   ]
  },
  {
   "cell_type": "code",
   "execution_count": 28,
   "metadata": {
    "collapsed": true
   },
   "outputs": [],
   "source": [
    "taxdata = pd.read_csv(\"https://raw.githubusercontent.com/sbg389/ads2017/master/data/tax_data.csv\")"
   ]
  },
  {
   "cell_type": "code",
   "execution_count": 11,
   "metadata": {},
   "outputs": [
    {
     "data": {
      "text/plain": [
       "49"
      ]
     },
     "execution_count": 11,
     "metadata": {},
     "output_type": "execute_result"
    }
   ],
   "source": [
    "len(taxdata.columns)"
   ]
  },
  {
   "cell_type": "code",
   "execution_count": 6,
   "metadata": {
    "scrolled": false
   },
   "outputs": [
    {
     "data": {
      "text/html": [
       "<div>\n",
       "<style>\n",
       "    .dataframe thead tr:only-child th {\n",
       "        text-align: right;\n",
       "    }\n",
       "\n",
       "    .dataframe thead th {\n",
       "        text-align: left;\n",
       "    }\n",
       "\n",
       "    .dataframe tbody tr th {\n",
       "        vertical-align: top;\n",
       "    }\n",
       "</style>\n",
       "<table border=\"1\" class=\"dataframe\">\n",
       "  <thead>\n",
       "    <tr style=\"text-align: right;\">\n",
       "      <th></th>\n",
       "      <th>zip</th>\n",
       "      <th>tc_2 # OF PROPERTIES</th>\n",
       "      <th>tc_2  FY'2017 MARKET VALUE LAND</th>\n",
       "      <th>tc_2  FY'2017 MARKET VALUE TOTAL</th>\n",
       "      <th>tc_2  FY'2017 ASSESSED VALUE LAND</th>\n",
       "      <th>tc_2  FY'2017 ASSESSED VALUE TOTAL</th>\n",
       "      <th>tc_2  FY'2017 EXEMPT VALUE LAND</th>\n",
       "      <th>tc_2  FY'2017 EXEMPT VALUE TOTAL</th>\n",
       "      <th>tc_2  FY'2017 ACTUAL ASSESSED VALUE LAND</th>\n",
       "      <th>tc_2  FY'2017 ACTUAL ASSESSED VALUE TOTAL</th>\n",
       "      <th>...</th>\n",
       "      <th>tc_1 Finance FY'2017 Taxable Assessed Value \r\n",
       "(Assessed Value minus Exempt Value)</th>\n",
       "      <th>tc_1 FY'2017 Taxes\r\n",
       "(Taxable Assessed Value * Tax Rate)</th>\n",
       "      <th>tc_1 FY'2017 Average Effective Tax Rate (Taxes ÷ Market Value)</th>\n",
       "      <th>tc_1 FY'2017 Median Effective Tax Rate</th>\n",
       "      <th>tc_1 FY'2017 Average Assessment Ratio\r\n",
       "(Assessed Value ÷ Market Value)</th>\n",
       "      <th>tc_1 FY'2017 Median Actual Assessment Ratio</th>\n",
       "      <th>tc_1 FY'2017 Taxes w/out Exemptions</th>\n",
       "      <th>tc_1 FY'2017 Average Taxes w/out Exemptions</th>\n",
       "      <th>tc_1 FY'2017 Average Effective Tax Rate w/out Exemptions</th>\n",
       "      <th>tc_1 FY'2017 Median Effective Tax Rate w/out Exemption</th>\n",
       "    </tr>\n",
       "  </thead>\n",
       "  <tbody>\n",
       "    <tr>\n",
       "      <th>0</th>\n",
       "      <td>10001</td>\n",
       "      <td>1471</td>\n",
       "      <td>780125048</td>\n",
       "      <td>4538886185</td>\n",
       "      <td>290671105</td>\n",
       "      <td>1658138801</td>\n",
       "      <td>81524077</td>\n",
       "      <td>686730527</td>\n",
       "      <td>320717141</td>\n",
       "      <td>1922824968</td>\n",
       "      <td>...</td>\n",
       "      <td>2694779.0</td>\n",
       "      <td>538713.0</td>\n",
       "      <td>0.0042</td>\n",
       "      <td>0.0041</td>\n",
       "      <td>0.0208</td>\n",
       "      <td>0.0207</td>\n",
       "      <td>539643.0</td>\n",
       "      <td>28402.0</td>\n",
       "      <td>0.0042</td>\n",
       "      <td>0.0041</td>\n",
       "    </tr>\n",
       "    <tr>\n",
       "      <th>1</th>\n",
       "      <td>10002</td>\n",
       "      <td>2480</td>\n",
       "      <td>1119441624</td>\n",
       "      <td>4725893887</td>\n",
       "      <td>433821548</td>\n",
       "      <td>1705825116</td>\n",
       "      <td>194114612</td>\n",
       "      <td>763757475</td>\n",
       "      <td>449310179</td>\n",
       "      <td>1983026564</td>\n",
       "      <td>...</td>\n",
       "      <td>4142512.0</td>\n",
       "      <td>828130.0</td>\n",
       "      <td>0.0035</td>\n",
       "      <td>0.0044</td>\n",
       "      <td>0.0192</td>\n",
       "      <td>0.0241</td>\n",
       "      <td>898470.0</td>\n",
       "      <td>9075.0</td>\n",
       "      <td>0.0038</td>\n",
       "      <td>0.0048</td>\n",
       "    </tr>\n",
       "    <tr>\n",
       "      <th>2</th>\n",
       "      <td>10003</td>\n",
       "      <td>3735</td>\n",
       "      <td>1598012608</td>\n",
       "      <td>8310198962</td>\n",
       "      <td>521608957</td>\n",
       "      <td>2700093121</td>\n",
       "      <td>33872345</td>\n",
       "      <td>198475327</td>\n",
       "      <td>537001788</td>\n",
       "      <td>3135021435</td>\n",
       "      <td>...</td>\n",
       "      <td>32690022.0</td>\n",
       "      <td>6535062.0</td>\n",
       "      <td>0.0048</td>\n",
       "      <td>0.0046</td>\n",
       "      <td>0.0244</td>\n",
       "      <td>0.0235</td>\n",
       "      <td>6658434.0</td>\n",
       "      <td>34679.0</td>\n",
       "      <td>0.0049</td>\n",
       "      <td>0.0047</td>\n",
       "    </tr>\n",
       "    <tr>\n",
       "      <th>3</th>\n",
       "      <td>10004</td>\n",
       "      <td>833</td>\n",
       "      <td>86698487</td>\n",
       "      <td>644247080</td>\n",
       "      <td>33694636</td>\n",
       "      <td>239754510</td>\n",
       "      <td>326200</td>\n",
       "      <td>48617039</td>\n",
       "      <td>33694659</td>\n",
       "      <td>266505140</td>\n",
       "      <td>...</td>\n",
       "      <td>873810.0</td>\n",
       "      <td>174683.0</td>\n",
       "      <td>0.0059</td>\n",
       "      <td>0.0054</td>\n",
       "      <td>0.0295</td>\n",
       "      <td>0.0271</td>\n",
       "      <td>174683.0</td>\n",
       "      <td>43671.0</td>\n",
       "      <td>0.0059</td>\n",
       "      <td>0.0054</td>\n",
       "    </tr>\n",
       "    <tr>\n",
       "      <th>4</th>\n",
       "      <td>10005</td>\n",
       "      <td>1650</td>\n",
       "      <td>371514875</td>\n",
       "      <td>1650726876</td>\n",
       "      <td>166694449</td>\n",
       "      <td>648149892</td>\n",
       "      <td>4251656</td>\n",
       "      <td>143404591</td>\n",
       "      <td>166694449</td>\n",
       "      <td>738072628</td>\n",
       "      <td>...</td>\n",
       "      <td>2933560.0</td>\n",
       "      <td>586448.0</td>\n",
       "      <td>0.0021</td>\n",
       "      <td>0.0022</td>\n",
       "      <td>0.0108</td>\n",
       "      <td>0.0110</td>\n",
       "      <td>594834.0</td>\n",
       "      <td>10815.0</td>\n",
       "      <td>0.0022</td>\n",
       "      <td>0.0022</td>\n",
       "    </tr>\n",
       "  </tbody>\n",
       "</table>\n",
       "<p>5 rows × 49 columns</p>\n",
       "</div>"
      ],
      "text/plain": [
       "     zip  tc_2 # OF PROPERTIES  tc_2  FY'2017 MARKET VALUE LAND  \\\n",
       "0  10001                  1471                        780125048   \n",
       "1  10002                  2480                       1119441624   \n",
       "2  10003                  3735                       1598012608   \n",
       "3  10004                   833                         86698487   \n",
       "4  10005                  1650                        371514875   \n",
       "\n",
       "   tc_2  FY'2017 MARKET VALUE TOTAL  tc_2  FY'2017 ASSESSED VALUE LAND  \\\n",
       "0                        4538886185                          290671105   \n",
       "1                        4725893887                          433821548   \n",
       "2                        8310198962                          521608957   \n",
       "3                         644247080                           33694636   \n",
       "4                        1650726876                          166694449   \n",
       "\n",
       "   tc_2  FY'2017 ASSESSED VALUE TOTAL  tc_2  FY'2017 EXEMPT VALUE LAND  \\\n",
       "0                          1658138801                         81524077   \n",
       "1                          1705825116                        194114612   \n",
       "2                          2700093121                         33872345   \n",
       "3                           239754510                           326200   \n",
       "4                           648149892                          4251656   \n",
       "\n",
       "   tc_2  FY'2017 EXEMPT VALUE TOTAL  tc_2  FY'2017 ACTUAL ASSESSED VALUE LAND  \\\n",
       "0                         686730527                                 320717141   \n",
       "1                         763757475                                 449310179   \n",
       "2                         198475327                                 537001788   \n",
       "3                          48617039                                  33694659   \n",
       "4                         143404591                                 166694449   \n",
       "\n",
       "   tc_2  FY'2017 ACTUAL ASSESSED VALUE TOTAL  \\\n",
       "0                                 1922824968   \n",
       "1                                 1983026564   \n",
       "2                                 3135021435   \n",
       "3                                  266505140   \n",
       "4                                  738072628   \n",
       "\n",
       "                            ...                            \\\n",
       "0                           ...                             \n",
       "1                           ...                             \n",
       "2                           ...                             \n",
       "3                           ...                             \n",
       "4                           ...                             \n",
       "\n",
       "  tc_1 Finance FY'2017 Taxable Assessed Value \\r\\n(Assessed Value minus Exempt Value)  \\\n",
       "0                                          2694779.0                                    \n",
       "1                                          4142512.0                                    \n",
       "2                                         32690022.0                                    \n",
       "3                                           873810.0                                    \n",
       "4                                          2933560.0                                    \n",
       "\n",
       "  tc_1 FY'2017 Taxes\\r\\n(Taxable Assessed Value * Tax Rate)  \\\n",
       "0                                           538713.0          \n",
       "1                                           828130.0          \n",
       "2                                          6535062.0          \n",
       "3                                           174683.0          \n",
       "4                                           586448.0          \n",
       "\n",
       "   tc_1 FY'2017 Average Effective Tax Rate (Taxes ÷ Market Value)  \\\n",
       "0                                             0.0042                \n",
       "1                                             0.0035                \n",
       "2                                             0.0048                \n",
       "3                                             0.0059                \n",
       "4                                             0.0021                \n",
       "\n",
       "   tc_1 FY'2017 Median Effective Tax Rate  \\\n",
       "0                                  0.0041   \n",
       "1                                  0.0044   \n",
       "2                                  0.0046   \n",
       "3                                  0.0054   \n",
       "4                                  0.0022   \n",
       "\n",
       "   tc_1 FY'2017 Average Assessment Ratio\\r\\n(Assessed Value ÷ Market Value)  \\\n",
       "0                                             0.0208                          \n",
       "1                                             0.0192                          \n",
       "2                                             0.0244                          \n",
       "3                                             0.0295                          \n",
       "4                                             0.0108                          \n",
       "\n",
       "   tc_1 FY'2017 Median Actual Assessment Ratio  \\\n",
       "0                                       0.0207   \n",
       "1                                       0.0241   \n",
       "2                                       0.0235   \n",
       "3                                       0.0271   \n",
       "4                                       0.0110   \n",
       "\n",
       "   tc_1 FY'2017 Taxes w/out Exemptions  \\\n",
       "0                             539643.0   \n",
       "1                             898470.0   \n",
       "2                            6658434.0   \n",
       "3                             174683.0   \n",
       "4                             594834.0   \n",
       "\n",
       "   tc_1 FY'2017 Average Taxes w/out Exemptions  \\\n",
       "0                                      28402.0   \n",
       "1                                       9075.0   \n",
       "2                                      34679.0   \n",
       "3                                      43671.0   \n",
       "4                                      10815.0   \n",
       "\n",
       "   tc_1 FY'2017 Average Effective Tax Rate w/out Exemptions  \\\n",
       "0                                             0.0042          \n",
       "1                                             0.0038          \n",
       "2                                             0.0049          \n",
       "3                                             0.0059          \n",
       "4                                             0.0022          \n",
       "\n",
       "   tc_1 FY'2017 Median Effective Tax Rate w/out Exemption  \n",
       "0                                             0.0041       \n",
       "1                                             0.0048       \n",
       "2                                             0.0047       \n",
       "3                                             0.0054       \n",
       "4                                             0.0022       \n",
       "\n",
       "[5 rows x 49 columns]"
      ]
     },
     "execution_count": 6,
     "metadata": {},
     "output_type": "execute_result"
    }
   ],
   "source": [
    "taxdata.head()"
   ]
  },
  {
   "cell_type": "code",
   "execution_count": 7,
   "metadata": {
    "scrolled": false
   },
   "outputs": [
    {
     "data": {
      "text/plain": [
       "Index(['zip', 'tc_2 # OF PROPERTIES', 'tc_2  FY'2017 MARKET VALUE LAND',\n",
       "       'tc_2  FY'2017 MARKET VALUE TOTAL', 'tc_2  FY'2017 ASSESSED VALUE LAND',\n",
       "       'tc_2  FY'2017 ASSESSED VALUE TOTAL', 'tc_2  FY'2017 EXEMPT VALUE LAND',\n",
       "       'tc_2  FY'2017 EXEMPT VALUE TOTAL',\n",
       "       'tc_2  FY'2017 ACTUAL ASSESSED VALUE LAND',\n",
       "       'tc_2  FY'2017 ACTUAL ASSESSED VALUE TOTAL',\n",
       "       'tc_2  Average Actual Assessment Ratio',\n",
       "       'tc_2  Median Actual Assessment Ratio',\n",
       "       'tc_2  FY'2017 ACTUAL EXEMPT VALUE LAND',\n",
       "       'tc_2  FY'2017 ACTUAL EXEMPT VALUE TOTAL', 'tc_2  TOTAL UNITS',\n",
       "       'tc_2  RESIDENTIAL UNITS', 'tc_2  LAND SQUARE FEET',\n",
       "       'tc_2 GROSS SQUARE FEET', 'tc_2 Taxable Assessed Value',\n",
       "       'tc_2 Total Taxes', 'tc_2 Average Taxable Effective Tax Rate',\n",
       "       'tc_2 Median Taxable Effective Tax Rate', 'tc_2 Taxes w/out Exemption',\n",
       "       'tc_2 Average Effective Tax Rate w/out Exemption',\n",
       "       'tc_2 Median Effective Tax Rate w/out Exemption',\n",
       "       'tc_2 Average Market Value Per Residential Unit',\n",
       "       'tc_2  Average Market Value Per Gross Square Foot',\n",
       "       'tc_2 Actual Assessed Value Per Residential Unit',\n",
       "       'tc_2 Actual Assessed Value Per Gross Square Foot',\n",
       "       'tc_2 Taxes w/out Exemption Per Residential Unit',\n",
       "       'tc_2 Taxes w/out Exemption Per Gross Square Foot',\n",
       "       'tc_1 # of Properties', 'tc_1 Finance FY'2017 Market Value Total',\n",
       "       'tc_1 Average Market Value', 'tc_1 Finance FY'2017 Assessed Value Land',\n",
       "       'tc_1 Finance FY'2017 Assessed Value Total',\n",
       "       'tc_1 Average Assessed Value', 'tc_1 Finance FY'2017 Exempt Value Land',\n",
       "       'tc_1 Finance FY'2017 Exempt Value Total',\n",
       "       'tc_1 Finance FY'2017 Taxable Assessed Value \\r\\n(Assessed Value minus Exempt Value)',\n",
       "       'tc_1 FY'2017 Taxes\\r\\n(Taxable Assessed Value * Tax Rate)',\n",
       "       'tc_1 FY'2017 Average Effective Tax Rate (Taxes ÷ Market Value)',\n",
       "       'tc_1 FY'2017 Median Effective Tax Rate',\n",
       "       'tc_1 FY'2017 Average Assessment Ratio\\r\\n(Assessed Value ÷ Market Value)',\n",
       "       'tc_1 FY'2017 Median Actual Assessment Ratio',\n",
       "       'tc_1 FY'2017 Taxes w/out Exemptions',\n",
       "       'tc_1 FY'2017 Average Taxes w/out Exemptions',\n",
       "       'tc_1 FY'2017 Average Effective Tax Rate w/out Exemptions',\n",
       "       'tc_1 FY'2017 Median Effective Tax Rate w/out Exemption'],\n",
       "      dtype='object')"
      ]
     },
     "execution_count": 7,
     "metadata": {},
     "output_type": "execute_result"
    }
   ],
   "source": [
    "taxdata.columns"
   ]
  },
  {
   "cell_type": "code",
   "execution_count": 29,
   "metadata": {},
   "outputs": [
    {
     "name": "stdout",
     "output_type": "stream",
     "text": [
      "  % Total    % Received % Xferd  Average Speed   Time    Time     Time  Current\n",
      "                                 Dload  Upload   Total   Spent    Left  Speed\n",
      "100 9628k  100 9628k    0     0  9628k      0  0:00:01  0:00:01 --:--:-- 4991k\n"
     ]
    }
   ],
   "source": [
    "!curl -O \"https://raw.githubusercontent.com/sbg389/ads2017/master/data/consolidated.geojson\""
   ]
  },
  {
   "cell_type": "code",
   "execution_count": 60,
   "metadata": {},
   "outputs": [],
   "source": [
    "listingcensusdata = GeoDataFrame.from_file(\"consolidated.geojson\")#, geometry='geometry')"
   ]
  },
  {
   "cell_type": "code",
   "execution_count": 61,
   "metadata": {},
   "outputs": [
    {
     "data": {
      "text/plain": [
       "525"
      ]
     },
     "execution_count": 61,
     "metadata": {},
     "output_type": "execute_result"
    }
   ],
   "source": [
    "len(listingcensusdata.columns)"
   ]
  },
  {
   "cell_type": "code",
   "execution_count": 62,
   "metadata": {},
   "outputs": [
    {
     "data": {
      "text/plain": [
       "bcode                                                                                                                                                                                                                                                                                       object\n",
       "listing                                                                                                                                                                                                                                                                                      int64\n",
       "note                                                                                                                                                                                                                                                                                        object\n",
       "zip                                                                                                                                                                                                                                                                                         object\n",
       "Unnamed: 0                                                                                                                                                                                                                                                                                   int64\n",
       "Id                                                                                                                                                                                                                                                                                          object\n",
       "Geography                                                                                                                                                                                                                                                                                   object\n",
       "Percent; HOUSEHOLDS BY TYPE - Total households                                                                                                                                                                                                                                               int64\n",
       "Percent; HOUSEHOLDS BY TYPE - Total households - Family households (families)                                                                                                                                                                                                              float64\n",
       "Percent; HOUSEHOLDS BY TYPE - Total households - Family households (families) - With own children of the householder under 18 years                                                                                                                                                        float64\n",
       "Percent; HOUSEHOLDS BY TYPE - Total households - Family households (families) - Married-couple family                                                                                                                                                                                      float64\n",
       "Percent; HOUSEHOLDS BY TYPE - Total households - Family households (families) - Married-couple family - With own children of the householder under 18 years                                                                                                                                float64\n",
       "Percent; HOUSEHOLDS BY TYPE - Total households - Family households (families) - Male householder, no wife present, family                                                                                                                                                                  float64\n",
       "Percent; HOUSEHOLDS BY TYPE - Total households - Family households (families) - Male householder, no wife present, family - With own children of the householder under 18 years                                                                                                            float64\n",
       "Percent; HOUSEHOLDS BY TYPE - Total households - Family households (families) - Female householder, no husband present, family                                                                                                                                                             float64\n",
       "Percent; HOUSEHOLDS BY TYPE - Total households - Family households (families) - Female householder, no husband present, family - With own children of the householder under 18 years                                                                                                       float64\n",
       "Percent; HOUSEHOLDS BY TYPE - Total households - Nonfamily households                                                                                                                                                                                                                      float64\n",
       "Percent; HOUSEHOLDS BY TYPE - Total households - Nonfamily households - Householder living alone                                                                                                                                                                                           float64\n",
       "Percent; HOUSEHOLDS BY TYPE - Total households - Nonfamily households - Householder living alone - 65 years and over                                                                                                                                                                       float64\n",
       "Percent; HOUSEHOLDS BY TYPE - Households with one or more people under 18 years                                                                                                                                                                                                            float64\n",
       "Percent; HOUSEHOLDS BY TYPE - Households with one or more people 65 years and over                                                                                                                                                                                                         float64\n",
       "Percent; HOUSEHOLDS BY TYPE - Average household size                                                                                                                                                                                                                                         int64\n",
       "Percent; HOUSEHOLDS BY TYPE - Average family size                                                                                                                                                                                                                                            int64\n",
       "Percent; RELATIONSHIP - Population in households                                                                                                                                                                                                                                             int64\n",
       "Percent; RELATIONSHIP - Population in households - Householder                                                                                                                                                                                                                             float64\n",
       "Percent; RELATIONSHIP - Population in households - Spouse                                                                                                                                                                                                                                  float64\n",
       "Percent; RELATIONSHIP - Population in households - Child                                                                                                                                                                                                                                   float64\n",
       "Percent; RELATIONSHIP - Population in households - Other relatives                                                                                                                                                                                                                         float64\n",
       "Percent; RELATIONSHIP - Population in households - Nonrelatives                                                                                                                                                                                                                            float64\n",
       "Percent; RELATIONSHIP - Population in households - Nonrelatives - Unmarried partner                                                                                                                                                                                                        float64\n",
       "                                                                                                                                                                                                                                                                                            ...   \n",
       "Percent; HEALTH INSURANCE COVERAGE - Civilian noninstitutionalized population 18 to 64 years - In labor force: - Unemployed: - With health insurance coverage                                                                                                                              float64\n",
       "Percent; HEALTH INSURANCE COVERAGE - Civilian noninstitutionalized population 18 to 64 years - In labor force: - Unemployed: - With health insurance coverage - With private health insurance                                                                                              float64\n",
       "Percent; HEALTH INSURANCE COVERAGE - Civilian noninstitutionalized population 18 to 64 years - In labor force: - Unemployed: - With health insurance coverage - With public coverage                                                                                                       float64\n",
       "Percent; HEALTH INSURANCE COVERAGE - Civilian noninstitutionalized population 18 to 64 years - In labor force: - Unemployed: - No health insurance coverage                                                                                                                                float64\n",
       "Percent; HEALTH INSURANCE COVERAGE - Civilian noninstitutionalized population 18 to 64 years - Not in labor force:                                                                                                                                                                           int64\n",
       "Percent; HEALTH INSURANCE COVERAGE - Civilian noninstitutionalized population 18 to 64 years - Not in labor force: - With health insurance coverage                                                                                                                                        float64\n",
       "Percent; HEALTH INSURANCE COVERAGE - Civilian noninstitutionalized population 18 to 64 years - Not in labor force: - With health insurance coverage - With private health insurance                                                                                                        float64\n",
       "Percent; HEALTH INSURANCE COVERAGE - Civilian noninstitutionalized population 18 to 64 years - Not in labor force: - With health insurance coverage - With public coverage                                                                                                                 float64\n",
       "Percent; HEALTH INSURANCE COVERAGE - Civilian noninstitutionalized population 18 to 64 years - Not in labor force: - No health insurance coverage                                                                                                                                          float64\n",
       "Percent; PERCENTAGE OF FAMILIES AND PEOPLE WHOSE INCOME IN THE PAST 12 MONTHS IS BELOW THE POVERTY LEVEL - All families                                                                                                                                                                    float64\n",
       "Percent; PERCENTAGE OF FAMILIES AND PEOPLE WHOSE INCOME IN THE PAST 12 MONTHS IS BELOW THE POVERTY LEVEL - All families - With related children of the householder under 18 years                                                                                                          float64\n",
       "Percent; PERCENTAGE OF FAMILIES AND PEOPLE WHOSE INCOME IN THE PAST 12 MONTHS IS BELOW THE POVERTY LEVEL - All families - With related children of the householder under 18 years - With related children of the householder under 5 years only                                            float64\n",
       "Percent; PERCENTAGE OF FAMILIES AND PEOPLE WHOSE INCOME IN THE PAST 12 MONTHS IS BELOW THE POVERTY LEVEL - Married couple families                                                                                                                                                         float64\n",
       "Percent; PERCENTAGE OF FAMILIES AND PEOPLE WHOSE INCOME IN THE PAST 12 MONTHS IS BELOW THE POVERTY LEVEL - Married couple families - With related children of the householder under 18 years                                                                                               float64\n",
       "Percent; PERCENTAGE OF FAMILIES AND PEOPLE WHOSE INCOME IN THE PAST 12 MONTHS IS BELOW THE POVERTY LEVEL - Married couple families - With related children of the householder under 18 years - With related children of the householder under 5 years only                                 float64\n",
       "Percent; PERCENTAGE OF FAMILIES AND PEOPLE WHOSE INCOME IN THE PAST 12 MONTHS IS BELOW THE POVERTY LEVEL - Families with female householder, no husband present                                                                                                                            float64\n",
       "Percent; PERCENTAGE OF FAMILIES AND PEOPLE WHOSE INCOME IN THE PAST 12 MONTHS IS BELOW THE POVERTY LEVEL - Families with female householder, no husband present - With related children of the householder under 18 years                                                                  float64\n",
       "Percent; PERCENTAGE OF FAMILIES AND PEOPLE WHOSE INCOME IN THE PAST 12 MONTHS IS BELOW THE POVERTY LEVEL - Families with female householder, no husband present - With related children of the householder under 18 years - With related children of the householder under 5 years only    float64\n",
       "Percent; PERCENTAGE OF FAMILIES AND PEOPLE WHOSE INCOME IN THE PAST 12 MONTHS IS BELOW THE POVERTY LEVEL - All people                                                                                                                                                                      float64\n",
       "Percent; PERCENTAGE OF FAMILIES AND PEOPLE WHOSE INCOME IN THE PAST 12 MONTHS IS BELOW THE POVERTY LEVEL - Under 18 years                                                                                                                                                                  float64\n",
       "Percent; PERCENTAGE OF FAMILIES AND PEOPLE WHOSE INCOME IN THE PAST 12 MONTHS IS BELOW THE POVERTY LEVEL - Under 18 years - Related children of the householder under 18 years                                                                                                             float64\n",
       "Percent; PERCENTAGE OF FAMILIES AND PEOPLE WHOSE INCOME IN THE PAST 12 MONTHS IS BELOW THE POVERTY LEVEL - Under 18 years - Related children of the householder under 18 years - Related children of the householder under 5 years                                                         float64\n",
       "Percent; PERCENTAGE OF FAMILIES AND PEOPLE WHOSE INCOME IN THE PAST 12 MONTHS IS BELOW THE POVERTY LEVEL - Under 18 years - Related children of the householder under 18 years - Related children of the householder 5 to 17 years                                                         float64\n",
       "Percent; PERCENTAGE OF FAMILIES AND PEOPLE WHOSE INCOME IN THE PAST 12 MONTHS IS BELOW THE POVERTY LEVEL - 18 years and over                                                                                                                                                               float64\n",
       "Percent; PERCENTAGE OF FAMILIES AND PEOPLE WHOSE INCOME IN THE PAST 12 MONTHS IS BELOW THE POVERTY LEVEL - 18 to 64 years                                                                                                                                                                  float64\n",
       "Percent; PERCENTAGE OF FAMILIES AND PEOPLE WHOSE INCOME IN THE PAST 12 MONTHS IS BELOW THE POVERTY LEVEL - 65 years and over                                                                                                                                                               float64\n",
       "Percent; PERCENTAGE OF FAMILIES AND PEOPLE WHOSE INCOME IN THE PAST 12 MONTHS IS BELOW THE POVERTY LEVEL - 65 years and over - People in families                                                                                                                                          float64\n",
       "Percent; PERCENTAGE OF FAMILIES AND PEOPLE WHOSE INCOME IN THE PAST 12 MONTHS IS BELOW THE POVERTY LEVEL - 65 years and over - Unrelated individuals 15 years and over                                                                                                                     float64\n",
       "listingsHouseholdsRatio                                                                                                                                                                                                                                                                    float64\n",
       "geometry                                                                                                                                                                                                                                                                                    object\n",
       "Length: 525, dtype: object"
      ]
     },
     "execution_count": 62,
     "metadata": {},
     "output_type": "execute_result"
    }
   ],
   "source": [
    "listingcensusdata.dtypes"
   ]
  },
  {
   "cell_type": "code",
   "execution_count": 63,
   "metadata": {
    "collapsed": true
   },
   "outputs": [],
   "source": [
    "listingcensusdata.zip = pd.to_numeric(listingcensusdata.zip)"
   ]
  },
  {
   "cell_type": "code",
   "execution_count": 4,
   "metadata": {
    "collapsed": true
   },
   "outputs": [],
   "source": [
    "#traindata = pd.read_csv(\"\")"
   ]
  },
  {
   "cell_type": "markdown",
   "metadata": {},
   "source": [
    "Merging tax data with dataset with airbnb listings and census."
   ]
  },
  {
   "cell_type": "code",
   "execution_count": 65,
   "metadata": {
    "collapsed": true
   },
   "outputs": [],
   "source": [
    "merged = (pd.merge(taxdata, listingcensusdata, on='zip'))"
   ]
  },
  {
   "cell_type": "code",
   "execution_count": 66,
   "metadata": {},
   "outputs": [
    {
     "name": "stdout",
     "output_type": "stream",
     "text": [
      "173\n"
     ]
    },
    {
     "data": {
      "text/plain": [
       "573"
      ]
     },
     "execution_count": 66,
     "metadata": {},
     "output_type": "execute_result"
    }
   ],
   "source": [
    "print (len(merged))\n",
    "len(merged.columns)"
   ]
  },
  {
   "cell_type": "code",
   "execution_count": 67,
   "metadata": {},
   "outputs": [
    {
     "data": {
      "text/plain": [
       "Index(['zip', 'tc_2 # OF PROPERTIES', 'tc_2  FY'2017 MARKET VALUE LAND',\n",
       "       'tc_2  FY'2017 MARKET VALUE TOTAL', 'tc_2  FY'2017 ASSESSED VALUE LAND',\n",
       "       'tc_2  FY'2017 ASSESSED VALUE TOTAL', 'tc_2  FY'2017 EXEMPT VALUE LAND',\n",
       "       'tc_2  FY'2017 EXEMPT VALUE TOTAL',\n",
       "       'tc_2  FY'2017 ACTUAL ASSESSED VALUE LAND',\n",
       "       'tc_2  FY'2017 ACTUAL ASSESSED VALUE TOTAL',\n",
       "       ...\n",
       "       'Percent; PERCENTAGE OF FAMILIES AND PEOPLE WHOSE INCOME IN THE PAST 12 MONTHS IS BELOW THE POVERTY LEVEL - Under 18 years - Related children of the householder under 18 years',\n",
       "       'Percent; PERCENTAGE OF FAMILIES AND PEOPLE WHOSE INCOME IN THE PAST 12 MONTHS IS BELOW THE POVERTY LEVEL - Under 18 years - Related children of the householder under 18 years - Related children of the householder under 5 years',\n",
       "       'Percent; PERCENTAGE OF FAMILIES AND PEOPLE WHOSE INCOME IN THE PAST 12 MONTHS IS BELOW THE POVERTY LEVEL - Under 18 years - Related children of the householder under 18 years - Related children of the householder 5 to 17 years',\n",
       "       'Percent; PERCENTAGE OF FAMILIES AND PEOPLE WHOSE INCOME IN THE PAST 12 MONTHS IS BELOW THE POVERTY LEVEL - 18 years and over',\n",
       "       'Percent; PERCENTAGE OF FAMILIES AND PEOPLE WHOSE INCOME IN THE PAST 12 MONTHS IS BELOW THE POVERTY LEVEL - 18 to 64 years',\n",
       "       'Percent; PERCENTAGE OF FAMILIES AND PEOPLE WHOSE INCOME IN THE PAST 12 MONTHS IS BELOW THE POVERTY LEVEL - 65 years and over',\n",
       "       'Percent; PERCENTAGE OF FAMILIES AND PEOPLE WHOSE INCOME IN THE PAST 12 MONTHS IS BELOW THE POVERTY LEVEL - 65 years and over - People in families',\n",
       "       'Percent; PERCENTAGE OF FAMILIES AND PEOPLE WHOSE INCOME IN THE PAST 12 MONTHS IS BELOW THE POVERTY LEVEL - 65 years and over - Unrelated individuals 15 years and over',\n",
       "       'listingsHouseholdsRatio', 'geometry'],\n",
       "      dtype='object', length=573)"
      ]
     },
     "execution_count": 67,
     "metadata": {},
     "output_type": "execute_result"
    }
   ],
   "source": [
    "merged.columns"
   ]
  },
  {
   "cell_type": "markdown",
   "metadata": {},
   "source": [
    "Checking for NaNs"
   ]
  },
  {
   "cell_type": "code",
   "execution_count": 68,
   "metadata": {},
   "outputs": [
    {
     "name": "stdout",
     "output_type": "stream",
     "text": [
      "tc_1 # of Properties 12 \n",
      "\n",
      "\n",
      "tc_1 Finance FY'2017 Market Value Total 12 \n",
      "\n",
      "\n",
      "tc_1 Average Market Value 12 \n",
      "\n",
      "\n",
      "tc_1 Finance FY'2017 Assessed Value Land 12 \n",
      "\n",
      "\n",
      "tc_1 Finance FY'2017 Assessed Value Total 12 \n",
      "\n",
      "\n",
      "tc_1 Average Assessed Value 12 \n",
      "\n",
      "\n",
      "tc_1 Finance FY'2017 Exempt Value Land 12 \n",
      "\n",
      "\n",
      "tc_1 Finance FY'2017 Exempt Value Total 12 \n",
      "\n",
      "\n",
      "tc_1 Finance FY'2017 Taxable Assessed Value \r\n",
      "(Assessed Value minus Exempt Value) 12 \n",
      "\n",
      "\n",
      "tc_1 FY'2017 Taxes\r\n",
      "(Taxable Assessed Value * Tax Rate) 12 \n",
      "\n",
      "\n",
      "tc_1 FY'2017 Average Effective Tax Rate (Taxes ÷ Market Value) 12 \n",
      "\n",
      "\n",
      "tc_1 FY'2017 Median Effective Tax Rate 12 \n",
      "\n",
      "\n",
      "tc_1 FY'2017 Average Assessment Ratio\r\n",
      "(Assessed Value ÷ Market Value) 12 \n",
      "\n",
      "\n",
      "tc_1 FY'2017 Median Actual Assessment Ratio 12 \n",
      "\n",
      "\n",
      "tc_1 FY'2017 Taxes w/out Exemptions 12 \n",
      "\n",
      "\n",
      "tc_1 FY'2017 Average Taxes w/out Exemptions 12 \n",
      "\n",
      "\n",
      "tc_1 FY'2017 Average Effective Tax Rate w/out Exemptions 12 \n",
      "\n",
      "\n",
      "tc_1 FY'2017 Median Effective Tax Rate w/out Exemption 12 \n",
      "\n",
      "\n"
     ]
    }
   ],
   "source": [
    "for i in merged.columns:\n",
    "    nulls = merged[i].isnull().sum()\n",
    "    if nulls > 0:\n",
    "        print (i, merged[i].isnull().sum(), '\\n\\n')"
   ]
  },
  {
   "cell_type": "markdown",
   "metadata": {},
   "source": [
    "Filling NaNs with average value."
   ]
  },
  {
   "cell_type": "code",
   "execution_count": 69,
   "metadata": {
    "collapsed": true
   },
   "outputs": [],
   "source": [
    "merged = merged.fillna(merged.mean())"
   ]
  },
  {
   "cell_type": "code",
   "execution_count": 70,
   "metadata": {
    "collapsed": true,
    "scrolled": true
   },
   "outputs": [],
   "source": [
    "for i in merged.columns:\n",
    "    nulls = merged[i].isnull().sum()\n",
    "    if nulls > 0:\n",
    "        print (i, merged[i].isnull().sum(), '\\n\\n')"
   ]
  },
  {
   "cell_type": "markdown",
   "metadata": {},
   "source": [
    "Save output"
   ]
  },
  {
   "cell_type": "code",
   "execution_count": 72,
   "metadata": {},
   "outputs": [],
   "source": [
    "merged.to_csv('./data/merged2.csv')\n",
    "\n",
    "#merged.to_file(\"./data/merged2.geojson\",\n",
    "#                           driver='GeoJSON')"
   ]
  },
  {
   "cell_type": "code",
   "execution_count": null,
   "metadata": {
    "collapsed": true
   },
   "outputs": [],
   "source": []
  }
 ],
 "metadata": {
  "anaconda-cloud": {},
  "kernelspec": {
   "display_name": "Python 3",
   "language": "python",
   "name": "python3"
  },
  "language_info": {
   "codemirror_mode": {
    "name": "ipython",
    "version": 3
   },
   "file_extension": ".py",
   "mimetype": "text/x-python",
   "name": "python",
   "nbconvert_exporter": "python",
   "pygments_lexer": "ipython3",
   "version": "3.6.2"
  }
 },
 "nbformat": 4,
 "nbformat_minor": 2
}
