{
 "cells": [
  {
   "cell_type": "code",
   "execution_count": 1,
   "metadata": {},
   "outputs": [],
   "source": [
    "import pandas as pd"
   ]
  },
  {
   "cell_type": "code",
   "execution_count": 2,
   "metadata": {},
   "outputs": [],
   "source": [
    "taxclass1 = pd.read_csv(\"https://raw.githubusercontent.com/sbg389/ads2017/master/data/0.1%20Keith%20Citywide%20Class%201%20Assessment%20Roll%20By%20Zip%20Code%20(1).csv\")"
   ]
  },
  {
   "cell_type": "code",
   "execution_count": 3,
   "metadata": {},
   "outputs": [],
   "source": [
    "taxclass2 = pd.read_csv(\"https://raw.githubusercontent.com/sbg389/ads2017/master/data/Zip%20tc%202.1.csv\")"
   ]
  },
  {
   "cell_type": "code",
   "execution_count": 4,
   "metadata": {},
   "outputs": [],
   "source": []
  },
  {
   "cell_type": "code",
   "execution_count": 5,
   "metadata": {},
   "outputs": [
    {
     "data": {
      "text/html": [
       "<div>\n",
       "<table border=\"1\" class=\"dataframe\">\n",
       "  <thead>\n",
       "    <tr style=\"text-align: right;\">\n",
       "      <th></th>\n",
       "      <th>Zip Code</th>\n",
       "      <th># of Properties</th>\n",
       "      <th>Finance FY'2017 Market Value Total</th>\n",
       "      <th>Average Market Value</th>\n",
       "      <th>Finance FY'2017 Assessed Value Land</th>\n",
       "      <th>Finance FY'2017 Assessed Value Total</th>\n",
       "      <th>Average Assessed Value</th>\n",
       "      <th>Finance FY'2017 Exempt Value Land</th>\n",
       "      <th>Finance FY'2017 Exempt Value Total</th>\n",
       "      <th>Finance FY'2017 Taxable Assessed Value \n",
       "(Assessed Value minus Exempt Value)</th>\n",
       "      <th>...</th>\n",
       "      <th>Unnamed: 19</th>\n",
       "      <th>Unnamed: 20</th>\n",
       "      <th>Unnamed: 21</th>\n",
       "      <th>Unnamed: 22</th>\n",
       "      <th>Unnamed: 23</th>\n",
       "      <th>Unnamed: 24</th>\n",
       "      <th>Unnamed: 25</th>\n",
       "      <th>Unnamed: 26</th>\n",
       "      <th>Unnamed: 27</th>\n",
       "      <th>Unnamed: 28</th>\n",
       "    </tr>\n",
       "  </thead>\n",
       "  <tbody>\n",
       "  </tbody>\n",
       "</table>\n",
       "<p>0 rows × 29 columns</p>\n",
       "</div>"
      ],
      "text/plain": [
       "Empty DataFrame\n",
       "Columns: [Zip Code, # of Properties, Finance FY'2017 Market Value Total, Average Market Value, Finance FY'2017 Assessed Value Land, Finance FY'2017 Assessed Value Total, Average Assessed Value, Finance FY'2017 Exempt Value Land, Finance FY'2017 Exempt Value Total, Finance FY'2017 Taxable Assessed Value \n",
       "(Assessed Value minus Exempt Value), FY'2017 Taxes\n",
       "(Taxable Assessed Value * Tax Rate), FY'2017 Average Effective Tax Rate (Taxes � Market Value), FY'2017 Median Effective Tax Rate, FY'2017 Average Assessment Ratio\n",
       "(Assessed Value � Market Value), FY'2017 Median Actual Assessment Ratio, FY'2017 Taxes w/out Exemptions, FY'2017 Average Taxes w/out Exemptions, FY'2017 Average Effective Tax Rate w/out Exemptions, FY'2017 Median Effective Tax Rate w/out Exemption, Unnamed: 19, Unnamed: 20, Unnamed: 21, Unnamed: 22, Unnamed: 23, Unnamed: 24, Unnamed: 25, Unnamed: 26, Unnamed: 27, Unnamed: 28]\n",
       "Index: []\n",
       "\n",
       "[0 rows x 29 columns]"
      ]
     },
     "execution_count": 5,
     "metadata": {},
     "output_type": "execute_result"
    }
   ],
   "source": [
    "taxclass1.head()"
   ]
  },
  {
   "cell_type": "code",
   "execution_count": null,
   "metadata": {},
   "outputs": [],
   "source": []
  }
 ],
 "metadata": {
  "kernelspec": {
   "display_name": "PUI2016_Python3",
   "language": "python",
   "name": "pui2016_python3"
  },
  "language_info": {
   "codemirror_mode": {
    "name": "ipython",
    "version": 3
   },
   "file_extension": ".py",
   "mimetype": "text/x-python",
   "name": "python",
   "nbconvert_exporter": "python",
   "pygments_lexer": "ipython3",
   "version": "3.5.4"
  }
 },
 "nbformat": 4,
 "nbformat_minor": 2
}
