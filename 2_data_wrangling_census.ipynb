{
 "cells": [
  {
   "cell_type": "code",
   "execution_count": 1,
   "metadata": {
    "collapsed": true
   },
   "outputs": [],
   "source": [
    "import pandas as pd\n",
    "import numpy as np\n",
    "%matplotlib inline\n",
    "import matplotlib.pyplot as pl\n",
    "import datetime\n",
    "import pickle"
   ]
  },
  {
   "cell_type": "markdown",
   "metadata": {},
   "source": [
    "Data downloaded from American Factfinder website: factfinder.census.gov/  \n",
    "2015 ACS 5-year estimates  \n",
    "geography: 5-Digit ZCTA; All 5-Digit ZIP Code Tabulation Areas fully within/partially within New York   \n",
    "CS DEMOGRAPHIC AND HOUSING ESTIMATES, DP05  \n",
    "SELECTED SOCIAL CHARACTERISTICS IN THE UNITED STATES, DP02  \n",
    "SELECTED HOUSING CHARACTERISTICS, DP04  \n",
    "SELECTED ECONOMIC CHARACTERISTICS, DP03  \n"
   ]
  },
  {
   "cell_type": "code",
   "execution_count": 2,
   "metadata": {
    "collapsed": true
   },
   "outputs": [],
   "source": [
    "data_cats = {'Social': '02'}\n",
    "data_cats['Economic'] = '03'\n",
    "data_cats['Housing'] = '04'\n",
    "data_cats['Demographics'] = '05'"
   ]
  },
  {
   "cell_type": "code",
   "execution_count": 8,
   "metadata": {},
   "outputs": [
    {
     "name": "stdout",
     "output_type": "stream",
     "text": [
      "./ACS Data/ACS_15_5YR_DP02_with_ann.csv\n"
     ]
    },
    {
     "name": "stderr",
     "output_type": "stream",
     "text": [
      "/Users/baileygriswold/anaconda3/lib/python3.6/site-packages/IPython/core/interactiveshell.py:2802: DtypeWarning: Columns (1,3,4,5,7,8,11,12,15,16,19,20,23,24,27,28,31,32,35,36,39,40,43,44,47,48,51,52,55,56,67,68,69,71,72,75,76,79,80,83,84,87,88,91,92,95,96,97,99,100,103,104,107,108,111,112,115,116,119,120,121,123,124,127,128,131,132,135,136,139,140,143,144,145,147,148,171,172,173,175,176,179,180,183,184,187,188,191,192,195,196,197,199,200,203,204,207,208,209,211,212,215,216,219,220,223,224,227,228,231,232,233,235,236,239,240,243,244,247,248,251,252,255,256,259,260,271,272,273,275,276,279,280,281,283,284,287,288,289,291,292,295,296,297,299,300,303,304,305,307,308,311,312,313,315,316,319,320,323,324,327,328,331,332,335,336,339,340,343,344,345,347,348,351,352,355,356,359,360,363,364,367,368,371,372,373,375,376,379,380,383,384,385,387,388,389,391,392,395,396,399,400,401,403,404,407,408,411,412,413,415,416,419,420,423,424,427,428,431,432,435,436,439,440,441,443,444,447,448,451,452,455,456,459,460,463,464,467,468,471,472,475,476,479,480,483,484,487,488,489,491,492,495,496,499,500,503,504,507,508,511,512,515,516,519,520,523,524,527,528,531,532,535,536,539,540,543,544,547,548,551,552,555,556,559,560,563,564,567,568,571,572,575,576,579,580,583,584,587,588,591,592,595,596) have mixed types. Specify dtype option on import or set low_memory=False.\n",
      "  if self.run_code(code, result):\n"
     ]
    },
    {
     "name": "stdout",
     "output_type": "stream",
     "text": [
      "./ACS Data/ACS_15_5YR_DP03_with_ann.csv\n"
     ]
    },
    {
     "name": "stderr",
     "output_type": "stream",
     "text": [
      "/Users/baileygriswold/anaconda3/lib/python3.6/site-packages/IPython/core/interactiveshell.py:2802: DtypeWarning: Columns (1,3,4,5,7,8,11,12,15,16,19,20,23,24,27,28,31,32,33,39,40,41,43,44,47,48,51,52,55,56,57,59,60,63,64,65,67,68,71,72,73,75,76,79,80,83,84,87,88,91,92,95,96,103,104,105,107,108,111,112,115,116,119,120,123,124,127,128,129,131,132,135,136,139,140,143,144,147,148,151,152,155,156,159,160,163,164,167,168,171,172,175,176,179,180,183,184,185,187,188,191,192,195,196,199,200,203,204,205,207,208,211,212,215,216,219,220,223,224,227,228,231,232,235,236,239,240,243,244,255,256,263,264,271,272,279,280,287,288,295,296,299,300,301,303,304,307,308,311,312,315,316,319,320,323,324,327,328,331,332,335,336,339,340,355,356,357,379,380,381,383,384,387,388,391,392,395,396,399,400,401,403,404,407,408,409,411,412,413,415,416,417,419,420,423,424,427,428,431,432,435,436,437,439,440,443,444,447,448,451,452,455,456,457,459,460,463,464,467,468,471,472) have mixed types. Specify dtype option on import or set low_memory=False.\n",
      "  if self.run_code(code, result):\n"
     ]
    },
    {
     "name": "stdout",
     "output_type": "stream",
     "text": [
      "./ACS Data/ACS_15_5YR_DP04_with_ann.csv\n",
      "./ACS Data/ACS_15_5YR_DP05_with_ann.csv\n"
     ]
    },
    {
     "name": "stderr",
     "output_type": "stream",
     "text": [
      "/Users/baileygriswold/anaconda3/lib/python3.6/site-packages/IPython/core/interactiveshell.py:2802: DtypeWarning: Columns (1,3,4,5,7,8,11,12,23,24,25,27,28,31,32,35,36,39,40,43,44,47,48,51,52,55,56,59,60,63,64,65,67,68,71,72,75,76,79,80,83,84,87,88,91,92,95,96,99,100,103,104,107,108,109,111,112,115,116,119,120,123,124,127,128,131,132,135,136,139,140,143,144,151,152,153,155,156,159,160,163,164,167,168,171,172,175,176,179,180,181,183,184,187,188,199,200,201,203,204,207,208,211,212,215,216,219,220,223,224,227,228,229,231,232,235,236,239,240,243,244,247,248,249,251,252,255,256,259,260,263,264,267,268,271,272,275,276,279,280,283,284,287,288,289,291,292,295,296,299,300,303,304,305,307,308,311,312,315,316,319,320,321,323,324,327,328,331,332,335,336,339,340,343,344,347,348,351,352,359,360,361,363,364,367,368,371,372,373,375,376,379,380,383,384,387,388,391,392,395,396,399,400,407,408,409,411,412,415,416,419,420,423,424,427,428,431,432,439,440,441,443,444,447,448,451,452,455,456,459,460,463,464,467,468,469,471,472,475,476,479,480,483,484,487,488,491,492,495,496,499,500,503,504,505,507,508,511,512,515,516,519,520,523,524,527,528,531,532,539,540,543,544,545,547,548,551,552,555,556,559,560,563,564,567,568,571,572) have mixed types. Specify dtype option on import or set low_memory=False.\n",
      "  if self.run_code(code, result):\n"
     ]
    }
   ],
   "source": [
    "for i in data_cats:\n",
    "    exec('{} = {}'.format(i, {}))\n",
    "    yr = 15\n",
    "    path = './ACS Data/ACS_'+str(yr)+'_5YR_DP'+data_cats[i]+'_with_ann.csv'\n",
    "    print (path)\n",
    "    exec('{} = pd.read_csv(path, encoding = \"ISO-8859-1\")'.format(i))\n",
    "    exec('{}.columns = {}.iloc[0]'.format(i, i))  \n",
    "    exec('{} = {}.reindex({}.index.drop(0))'.format(i,i,i))"
   ]
  },
  {
   "cell_type": "markdown",
   "metadata": {},
   "source": [
    "Select only NYC Zipcodes --> zipcodes between 10000 and 11700\n",
    "https://www.health.ny.gov/statistics/cancer/registry/appendix/neighborhoods.htm"
   ]
  },
  {
   "cell_type": "code",
   "execution_count": 28,
   "metadata": {
    "scrolled": true
   },
   "outputs": [
    {
     "name": "stdout",
     "output_type": "stream",
     "text": [
      "Social\n",
      "Economic\n",
      "Housing\n",
      "Demographics\n"
     ]
    }
   ],
   "source": [
    "for key in data_cats.keys():\n",
    "    print (key)\n",
    "    exec(\"{} = {}[({}['Id2'].apply(int) >= 10000) & ({}['Id2'].apply(int) <= 11700)]\".format(key, key, key, key))"
   ]
  },
  {
   "cell_type": "markdown",
   "metadata": {},
   "source": [
    "Remove columns that aren't helpful"
   ]
  },
  {
   "cell_type": "code",
   "execution_count": 31,
   "metadata": {
    "collapsed": true
   },
   "outputs": [],
   "source": [
    "def drop_columns(df,phrase,dropped_cols=False):\n",
    "    '''Drop all columns in dataframe df that contain substring phrase'''\n",
    "    start_len = len(df.columns)\n",
    "    drop_cols = []\n",
    "    for i in df.columns:\n",
    "        if phrase in i:\n",
    "            drop_cols.append(i)\n",
    "            df.drop([i], axis=1, inplace=True)\n",
    "    print ('Total Columns Dropped: {}'.format(len(drop_cols)))\n",
    "    if dropped_cols == True:\n",
    "        print ('Dropped Columns: {}'.format(drop_cols))\n",
    "\n",
    "#could add inplace feature\n",
    "#could add upper/lower case feature"
   ]
  },
  {
   "cell_type": "code",
   "execution_count": 32,
   "metadata": {},
   "outputs": [
    {
     "data": {
      "text/plain": [
       "Index(['Id', 'Id2', 'Geography',\n",
       "       'Estimate; HOUSEHOLDS BY TYPE - Total households',\n",
       "       'Margin of Error; HOUSEHOLDS BY TYPE - Total households',\n",
       "       'Percent; HOUSEHOLDS BY TYPE - Total households',\n",
       "       'Percent Margin of Error; HOUSEHOLDS BY TYPE - Total households',\n",
       "       'Estimate; HOUSEHOLDS BY TYPE - Total households - Family households (families)',\n",
       "       'Margin of Error; HOUSEHOLDS BY TYPE - Total households - Family households (families)',\n",
       "       'Percent; HOUSEHOLDS BY TYPE - Total households - Family households (families)',\n",
       "       ...\n",
       "       'Percent; COMPUTERS AND INTERNET USE - Total households',\n",
       "       'Percent Margin of Error; COMPUTERS AND INTERNET USE - Total households',\n",
       "       'Estimate; COMPUTERS AND INTERNET USE - Total households - With a computer',\n",
       "       'Margin of Error; COMPUTERS AND INTERNET USE - Total households - With a computer',\n",
       "       'Percent; COMPUTERS AND INTERNET USE - Total households - With a computer',\n",
       "       'Percent Margin of Error; COMPUTERS AND INTERNET USE - Total households - With a computer',\n",
       "       'Estimate; COMPUTERS AND INTERNET USE - Total households - With a broadband Internet subscription',\n",
       "       'Margin of Error; COMPUTERS AND INTERNET USE - Total households - With a broadband Internet subscription',\n",
       "       'Percent; COMPUTERS AND INTERNET USE - Total households - With a broadband Internet subscription',\n",
       "       'Percent Margin of Error; COMPUTERS AND INTERNET USE - Total households - With a broadband Internet subscription'],\n",
       "      dtype='object', name=0, length=611)"
      ]
     },
     "execution_count": 32,
     "metadata": {},
     "output_type": "execute_result"
    }
   ],
   "source": [
    "Social.columns"
   ]
  },
  {
   "cell_type": "code",
   "execution_count": 35,
   "metadata": {},
   "outputs": [
    {
     "name": "stderr",
     "output_type": "stream",
     "text": [
      "/Users/baileygriswold/anaconda3/lib/python3.6/site-packages/ipykernel_launcher.py:8: SettingWithCopyWarning: \n",
      "A value is trying to be set on a copy of a slice from a DataFrame\n",
      "\n",
      "See the caveats in the documentation: http://pandas.pydata.org/pandas-docs/stable/indexing.html#indexing-view-versus-copy\n",
      "  \n"
     ]
    },
    {
     "name": "stdout",
     "output_type": "stream",
     "text": [
      "Total Columns Dropped: 304\n",
      "Total Columns Dropped: 152\n",
      "Total Columns Dropped: 168\n",
      "Total Columns Dropped: 84\n",
      "Total Columns Dropped: 274\n",
      "Total Columns Dropped: 137\n",
      "Total Columns Dropped: 286\n",
      "Total Columns Dropped: 143\n"
     ]
    }
   ],
   "source": [
    "#dropping margin of error and estimate columns to leave only percents, bc that's more relevant/normalized\n",
    "drop_columns(Social, 'Margin of Error')\n",
    "drop_columns(Social, 'Estimate')\n",
    "drop_columns(Demographics, 'Margin of Error')\n",
    "drop_columns(Demographics, 'Estimate')\n",
    "drop_columns(Economic, 'Margin of Error')\n",
    "drop_columns(Economic, 'Estimate')\n",
    "drop_columns(Housing, 'Margin of Error')\n",
    "drop_columns(Housing, 'Estimate')"
   ]
  },
  {
   "cell_type": "markdown",
   "metadata": {},
   "source": [
    "Merge all the Census dataframes into one, on zipcode"
   ]
  },
  {
   "cell_type": "code",
   "execution_count": 42,
   "metadata": {},
   "outputs": [
    {
     "name": "stdout",
     "output_type": "stream",
     "text": [
      "Obs in Social:  402\n",
      "Obs in Demographics:  402\n",
      "Obs in merge, on inner:  402\n",
      "Obs in merge, on outer:  402\n"
     ]
    }
   ],
   "source": [
    "print ('Obs in Social: ', len(Social))\n",
    "print ('Obs in Demographics: ', len(Demographics))\n",
    "\n",
    "print ('Obs in merge, on inner: ', len(pd.merge(Social, Demographics, on=['Id', 'Id2', 'Geography'], how='inner')))\n",
    "print ('Obs in merge, on outer: ', len(pd.merge(Social, Demographics, on=['Id', 'Id2', 'Geography'], how='outer')))"
   ]
  },
  {
   "cell_type": "code",
   "execution_count": 43,
   "metadata": {
    "collapsed": true
   },
   "outputs": [],
   "source": [
    "census = pd.merge(Social, Demographics, on=['Id', 'Id2', 'Geography'], how='inner')"
   ]
  },
  {
   "cell_type": "code",
   "execution_count": 45,
   "metadata": {},
   "outputs": [
    {
     "name": "stdout",
     "output_type": "stream",
     "text": [
      "Obs in Census:  402\n",
      "Obs in Housing:  402\n",
      "Obs in merge, on inner:  402\n",
      "Obs in merge, on outer:  402\n"
     ]
    }
   ],
   "source": [
    "print ('Obs in Census: ', len(census))\n",
    "print ('Obs in Housing: ', len(Housing))\n",
    "\n",
    "print ('Obs in merge, on inner: ', len(pd.merge(census, Housing, on=['Id', 'Id2', 'Geography'], how='inner')))\n",
    "print ('Obs in merge, on outer: ', len(pd.merge(census, Housing, on=['Id', 'Id2', 'Geography'], how='outer')))"
   ]
  },
  {
   "cell_type": "code",
   "execution_count": 46,
   "metadata": {
    "collapsed": true
   },
   "outputs": [],
   "source": [
    "census = pd.merge(census, Housing, on=['Id', 'Id2', 'Geography'], how='inner')"
   ]
  },
  {
   "cell_type": "code",
   "execution_count": 47,
   "metadata": {},
   "outputs": [
    {
     "name": "stdout",
     "output_type": "stream",
     "text": [
      "Obs in Census:  402\n",
      "Obs in Economic:  402\n",
      "Obs in merge, on inner:  402\n",
      "Obs in merge, on outer:  402\n"
     ]
    }
   ],
   "source": [
    "print ('Obs in Census: ', len(census))\n",
    "print ('Obs in Economic: ', len(Economic))\n",
    "\n",
    "print ('Obs in merge, on inner: ', len(pd.merge(census, Economic, on=['Id', 'Id2', 'Geography'], how='inner')))\n",
    "print ('Obs in merge, on outer: ', len(pd.merge(census, Economic, on=['Id', 'Id2', 'Geography'], how='outer')))"
   ]
  },
  {
   "cell_type": "code",
   "execution_count": 48,
   "metadata": {
    "collapsed": true
   },
   "outputs": [],
   "source": [
    "census = pd.merge(census, Economic, on=['Id', 'Id2', 'Geography'], how='inner')"
   ]
  },
  {
   "cell_type": "markdown",
   "metadata": {},
   "source": [
    "Convert data types of each column"
   ]
  },
  {
   "cell_type": "code",
   "execution_count": 50,
   "metadata": {},
   "outputs": [
    {
     "data": {
      "text/html": [
       "<div>\n",
       "<style>\n",
       "    .dataframe thead tr:only-child th {\n",
       "        text-align: right;\n",
       "    }\n",
       "\n",
       "    .dataframe thead th {\n",
       "        text-align: left;\n",
       "    }\n",
       "\n",
       "    .dataframe tbody tr th {\n",
       "        vertical-align: top;\n",
       "    }\n",
       "</style>\n",
       "<table border=\"1\" class=\"dataframe\">\n",
       "  <thead>\n",
       "    <tr style=\"text-align: right;\">\n",
       "      <th></th>\n",
       "      <th>Id</th>\n",
       "      <th>Id2</th>\n",
       "      <th>Geography</th>\n",
       "      <th>Percent; HOUSEHOLDS BY TYPE - Total households</th>\n",
       "      <th>Percent; HOUSEHOLDS BY TYPE - Total households - Family households (families)</th>\n",
       "      <th>Percent; HOUSEHOLDS BY TYPE - Total households - Family households (families) - With own children of the householder under 18 years</th>\n",
       "      <th>Percent; HOUSEHOLDS BY TYPE - Total households - Family households (families) - Married-couple family</th>\n",
       "      <th>Percent; HOUSEHOLDS BY TYPE - Total households - Family households (families) - Married-couple family - With own children of the householder under 18 years</th>\n",
       "      <th>Percent; HOUSEHOLDS BY TYPE - Total households - Family households (families) - Male householder, no wife present, family</th>\n",
       "      <th>Percent; HOUSEHOLDS BY TYPE - Total households - Family households (families) - Male householder, no wife present, family - With own children of the householder under 18 years</th>\n",
       "      <th>...</th>\n",
       "      <th>Percent; PERCENTAGE OF FAMILIES AND PEOPLE WHOSE INCOME IN THE PAST 12 MONTHS IS BELOW THE POVERTY LEVEL - All people</th>\n",
       "      <th>Percent; PERCENTAGE OF FAMILIES AND PEOPLE WHOSE INCOME IN THE PAST 12 MONTHS IS BELOW THE POVERTY LEVEL - Under 18 years</th>\n",
       "      <th>Percent; PERCENTAGE OF FAMILIES AND PEOPLE WHOSE INCOME IN THE PAST 12 MONTHS IS BELOW THE POVERTY LEVEL - Under 18 years - Related children of the householder under 18 years</th>\n",
       "      <th>Percent; PERCENTAGE OF FAMILIES AND PEOPLE WHOSE INCOME IN THE PAST 12 MONTHS IS BELOW THE POVERTY LEVEL - Under 18 years - Related children of the householder under 18 years - Related children of the householder under 5 years</th>\n",
       "      <th>Percent; PERCENTAGE OF FAMILIES AND PEOPLE WHOSE INCOME IN THE PAST 12 MONTHS IS BELOW THE POVERTY LEVEL - Under 18 years - Related children of the householder under 18 years - Related children of the householder 5 to 17 years</th>\n",
       "      <th>Percent; PERCENTAGE OF FAMILIES AND PEOPLE WHOSE INCOME IN THE PAST 12 MONTHS IS BELOW THE POVERTY LEVEL - 18 years and over</th>\n",
       "      <th>Percent; PERCENTAGE OF FAMILIES AND PEOPLE WHOSE INCOME IN THE PAST 12 MONTHS IS BELOW THE POVERTY LEVEL - 18 to 64 years</th>\n",
       "      <th>Percent; PERCENTAGE OF FAMILIES AND PEOPLE WHOSE INCOME IN THE PAST 12 MONTHS IS BELOW THE POVERTY LEVEL - 65 years and over</th>\n",
       "      <th>Percent; PERCENTAGE OF FAMILIES AND PEOPLE WHOSE INCOME IN THE PAST 12 MONTHS IS BELOW THE POVERTY LEVEL - 65 years and over - People in families</th>\n",
       "      <th>Percent; PERCENTAGE OF FAMILIES AND PEOPLE WHOSE INCOME IN THE PAST 12 MONTHS IS BELOW THE POVERTY LEVEL - 65 years and over - Unrelated individuals 15 years and over</th>\n",
       "    </tr>\n",
       "  </thead>\n",
       "  <tbody>\n",
       "    <tr>\n",
       "      <th>0</th>\n",
       "      <td>8600000US10001</td>\n",
       "      <td>10001</td>\n",
       "      <td>ZCTA5 10001</td>\n",
       "      <td>11639</td>\n",
       "      <td>31.5</td>\n",
       "      <td>10.1</td>\n",
       "      <td>23.5</td>\n",
       "      <td>7.0</td>\n",
       "      <td>3.4</td>\n",
       "      <td>1.1</td>\n",
       "      <td>...</td>\n",
       "      <td>20.4</td>\n",
       "      <td>59.5</td>\n",
       "      <td>59.5</td>\n",
       "      <td>18.6</td>\n",
       "      <td>69.3</td>\n",
       "      <td>14.9</td>\n",
       "      <td>15.9</td>\n",
       "      <td>8.6</td>\n",
       "      <td>23.6</td>\n",
       "      <td>17.2</td>\n",
       "    </tr>\n",
       "    <tr>\n",
       "      <th>1</th>\n",
       "      <td>8600000US10002</td>\n",
       "      <td>10002</td>\n",
       "      <td>ZCTA5 10002</td>\n",
       "      <td>33348</td>\n",
       "      <td>52.7</td>\n",
       "      <td>19.1</td>\n",
       "      <td>30.0</td>\n",
       "      <td>9.9</td>\n",
       "      <td>5.4</td>\n",
       "      <td>1.7</td>\n",
       "      <td>...</td>\n",
       "      <td>30.2</td>\n",
       "      <td>43.2</td>\n",
       "      <td>43.1</td>\n",
       "      <td>39.4</td>\n",
       "      <td>44.4</td>\n",
       "      <td>27.9</td>\n",
       "      <td>26.1</td>\n",
       "      <td>35.0</td>\n",
       "      <td>30.5</td>\n",
       "      <td>29.7</td>\n",
       "    </tr>\n",
       "    <tr>\n",
       "      <th>2</th>\n",
       "      <td>8600000US10003</td>\n",
       "      <td>10003</td>\n",
       "      <td>ZCTA5 10003</td>\n",
       "      <td>27487</td>\n",
       "      <td>26.7</td>\n",
       "      <td>8.3</td>\n",
       "      <td>22.3</td>\n",
       "      <td>6.1</td>\n",
       "      <td>1.7</td>\n",
       "      <td>0.5</td>\n",
       "      <td>...</td>\n",
       "      <td>10.3</td>\n",
       "      <td>7.6</td>\n",
       "      <td>6.3</td>\n",
       "      <td>6.3</td>\n",
       "      <td>6.3</td>\n",
       "      <td>10.5</td>\n",
       "      <td>10.4</td>\n",
       "      <td>11.0</td>\n",
       "      <td>4.1</td>\n",
       "      <td>14.2</td>\n",
       "    </tr>\n",
       "    <tr>\n",
       "      <th>3</th>\n",
       "      <td>8600000US10004</td>\n",
       "      <td>10004</td>\n",
       "      <td>ZCTA5 10004</td>\n",
       "      <td>1574</td>\n",
       "      <td>37.5</td>\n",
       "      <td>18.4</td>\n",
       "      <td>31.9</td>\n",
       "      <td>16.5</td>\n",
       "      <td>2.9</td>\n",
       "      <td>0.0</td>\n",
       "      <td>...</td>\n",
       "      <td>6.8</td>\n",
       "      <td>13.6</td>\n",
       "      <td>5.8</td>\n",
       "      <td>11.9</td>\n",
       "      <td>4.0</td>\n",
       "      <td>5.2</td>\n",
       "      <td>5.4</td>\n",
       "      <td>1.7</td>\n",
       "      <td>2.5</td>\n",
       "      <td>12.1</td>\n",
       "    </tr>\n",
       "    <tr>\n",
       "      <th>4</th>\n",
       "      <td>8600000US10005</td>\n",
       "      <td>10005</td>\n",
       "      <td>ZCTA5 10005</td>\n",
       "      <td>4252</td>\n",
       "      <td>29.9</td>\n",
       "      <td>12.3</td>\n",
       "      <td>26.5</td>\n",
       "      <td>10.7</td>\n",
       "      <td>1.6</td>\n",
       "      <td>0.8</td>\n",
       "      <td>...</td>\n",
       "      <td>10.6</td>\n",
       "      <td>0.0</td>\n",
       "      <td>0.0</td>\n",
       "      <td>0.0</td>\n",
       "      <td>0.0</td>\n",
       "      <td>11.7</td>\n",
       "      <td>11.8</td>\n",
       "      <td>0.0</td>\n",
       "      <td>0.2</td>\n",
       "      <td>17.6</td>\n",
       "    </tr>\n",
       "    <tr>\n",
       "      <th>5</th>\n",
       "      <td>8600000US10006</td>\n",
       "      <td>10006</td>\n",
       "      <td>ZCTA5 10006</td>\n",
       "      <td>1745</td>\n",
       "      <td>26.0</td>\n",
       "      <td>12.4</td>\n",
       "      <td>20.7</td>\n",
       "      <td>8.7</td>\n",
       "      <td>2.6</td>\n",
       "      <td>1.2</td>\n",
       "      <td>...</td>\n",
       "      <td>8.0</td>\n",
       "      <td>0.0</td>\n",
       "      <td>0.0</td>\n",
       "      <td>0.0</td>\n",
       "      <td>0.0</td>\n",
       "      <td>9.1</td>\n",
       "      <td>9.1</td>\n",
       "      <td>-</td>\n",
       "      <td>1.6</td>\n",
       "      <td>12.2</td>\n",
       "    </tr>\n",
       "    <tr>\n",
       "      <th>6</th>\n",
       "      <td>8600000US10007</td>\n",
       "      <td>10007</td>\n",
       "      <td>ZCTA5 10007</td>\n",
       "      <td>2781</td>\n",
       "      <td>51.3</td>\n",
       "      <td>28.1</td>\n",
       "      <td>47.3</td>\n",
       "      <td>24.8</td>\n",
       "      <td>0.0</td>\n",
       "      <td>0.0</td>\n",
       "      <td>...</td>\n",
       "      <td>3.2</td>\n",
       "      <td>1.1</td>\n",
       "      <td>1.1</td>\n",
       "      <td>0.0</td>\n",
       "      <td>1.5</td>\n",
       "      <td>3.7</td>\n",
       "      <td>3.4</td>\n",
       "      <td>10.2</td>\n",
       "      <td>1.5</td>\n",
       "      <td>6.8</td>\n",
       "    </tr>\n",
       "    <tr>\n",
       "      <th>7</th>\n",
       "      <td>8600000US10009</td>\n",
       "      <td>10009</td>\n",
       "      <td>ZCTA5 10009</td>\n",
       "      <td>29770</td>\n",
       "      <td>36.9</td>\n",
       "      <td>12.6</td>\n",
       "      <td>20.2</td>\n",
       "      <td>6.0</td>\n",
       "      <td>2.9</td>\n",
       "      <td>1.4</td>\n",
       "      <td>...</td>\n",
       "      <td>22.8</td>\n",
       "      <td>36.1</td>\n",
       "      <td>36.0</td>\n",
       "      <td>30.3</td>\n",
       "      <td>37.7</td>\n",
       "      <td>21.2</td>\n",
       "      <td>20.7</td>\n",
       "      <td>24.1</td>\n",
       "      <td>21.5</td>\n",
       "      <td>24.4</td>\n",
       "    </tr>\n",
       "    <tr>\n",
       "      <th>8</th>\n",
       "      <td>8600000US10010</td>\n",
       "      <td>10010</td>\n",
       "      <td>ZCTA5 10010</td>\n",
       "      <td>16050</td>\n",
       "      <td>27.9</td>\n",
       "      <td>8.7</td>\n",
       "      <td>21.3</td>\n",
       "      <td>6.7</td>\n",
       "      <td>1.2</td>\n",
       "      <td>0.1</td>\n",
       "      <td>...</td>\n",
       "      <td>14.7</td>\n",
       "      <td>10.8</td>\n",
       "      <td>10.8</td>\n",
       "      <td>2.8</td>\n",
       "      <td>17.4</td>\n",
       "      <td>15.0</td>\n",
       "      <td>15.2</td>\n",
       "      <td>14.0</td>\n",
       "      <td>5.6</td>\n",
       "      <td>21.1</td>\n",
       "    </tr>\n",
       "    <tr>\n",
       "      <th>9</th>\n",
       "      <td>8600000US10011</td>\n",
       "      <td>10011</td>\n",
       "      <td>ZCTA5 10011</td>\n",
       "      <td>29762</td>\n",
       "      <td>30.3</td>\n",
       "      <td>11.4</td>\n",
       "      <td>23.6</td>\n",
       "      <td>7.4</td>\n",
       "      <td>1.7</td>\n",
       "      <td>1.1</td>\n",
       "      <td>...</td>\n",
       "      <td>8.5</td>\n",
       "      <td>7.6</td>\n",
       "      <td>7.6</td>\n",
       "      <td>7.1</td>\n",
       "      <td>7.8</td>\n",
       "      <td>8.6</td>\n",
       "      <td>8.6</td>\n",
       "      <td>8.2</td>\n",
       "      <td>4.6</td>\n",
       "      <td>11.8</td>\n",
       "    </tr>\n",
       "  </tbody>\n",
       "</table>\n",
       "<p>10 rows × 519 columns</p>\n",
       "</div>"
      ],
      "text/plain": [
       "0              Id    Id2    Geography  \\\n",
       "0  8600000US10001  10001  ZCTA5 10001   \n",
       "1  8600000US10002  10002  ZCTA5 10002   \n",
       "2  8600000US10003  10003  ZCTA5 10003   \n",
       "3  8600000US10004  10004  ZCTA5 10004   \n",
       "4  8600000US10005  10005  ZCTA5 10005   \n",
       "5  8600000US10006  10006  ZCTA5 10006   \n",
       "6  8600000US10007  10007  ZCTA5 10007   \n",
       "7  8600000US10009  10009  ZCTA5 10009   \n",
       "8  8600000US10010  10010  ZCTA5 10010   \n",
       "9  8600000US10011  10011  ZCTA5 10011   \n",
       "\n",
       "0 Percent; HOUSEHOLDS BY TYPE - Total households  \\\n",
       "0                                          11639   \n",
       "1                                          33348   \n",
       "2                                          27487   \n",
       "3                                           1574   \n",
       "4                                           4252   \n",
       "5                                           1745   \n",
       "6                                           2781   \n",
       "7                                          29770   \n",
       "8                                          16050   \n",
       "9                                          29762   \n",
       "\n",
       "0 Percent; HOUSEHOLDS BY TYPE - Total households - Family households (families)  \\\n",
       "0                                               31.5                              \n",
       "1                                               52.7                              \n",
       "2                                               26.7                              \n",
       "3                                               37.5                              \n",
       "4                                               29.9                              \n",
       "5                                               26.0                              \n",
       "6                                               51.3                              \n",
       "7                                               36.9                              \n",
       "8                                               27.9                              \n",
       "9                                               30.3                              \n",
       "\n",
       "0 Percent; HOUSEHOLDS BY TYPE - Total households - Family households (families) - With own children of the householder under 18 years  \\\n",
       "0                                               10.1                                                                                    \n",
       "1                                               19.1                                                                                    \n",
       "2                                                8.3                                                                                    \n",
       "3                                               18.4                                                                                    \n",
       "4                                               12.3                                                                                    \n",
       "5                                               12.4                                                                                    \n",
       "6                                               28.1                                                                                    \n",
       "7                                               12.6                                                                                    \n",
       "8                                                8.7                                                                                    \n",
       "9                                               11.4                                                                                    \n",
       "\n",
       "0 Percent; HOUSEHOLDS BY TYPE - Total households - Family households (families) - Married-couple family  \\\n",
       "0                                               23.5                                                      \n",
       "1                                               30.0                                                      \n",
       "2                                               22.3                                                      \n",
       "3                                               31.9                                                      \n",
       "4                                               26.5                                                      \n",
       "5                                               20.7                                                      \n",
       "6                                               47.3                                                      \n",
       "7                                               20.2                                                      \n",
       "8                                               21.3                                                      \n",
       "9                                               23.6                                                      \n",
       "\n",
       "0 Percent; HOUSEHOLDS BY TYPE - Total households - Family households (families) - Married-couple family - With own children of the householder under 18 years  \\\n",
       "0                                                7.0                                                                                                            \n",
       "1                                                9.9                                                                                                            \n",
       "2                                                6.1                                                                                                            \n",
       "3                                               16.5                                                                                                            \n",
       "4                                               10.7                                                                                                            \n",
       "5                                                8.7                                                                                                            \n",
       "6                                               24.8                                                                                                            \n",
       "7                                                6.0                                                                                                            \n",
       "8                                                6.7                                                                                                            \n",
       "9                                                7.4                                                                                                            \n",
       "\n",
       "0 Percent; HOUSEHOLDS BY TYPE - Total households - Family households (families) - Male householder, no wife present, family  \\\n",
       "0                                                3.4                                                                          \n",
       "1                                                5.4                                                                          \n",
       "2                                                1.7                                                                          \n",
       "3                                                2.9                                                                          \n",
       "4                                                1.6                                                                          \n",
       "5                                                2.6                                                                          \n",
       "6                                                0.0                                                                          \n",
       "7                                                2.9                                                                          \n",
       "8                                                1.2                                                                          \n",
       "9                                                1.7                                                                          \n",
       "\n",
       "0 Percent; HOUSEHOLDS BY TYPE - Total households - Family households (families) - Male householder, no wife present, family - With own children of the householder under 18 years  \\\n",
       "0                                                1.1                                                                                                                                \n",
       "1                                                1.7                                                                                                                                \n",
       "2                                                0.5                                                                                                                                \n",
       "3                                                0.0                                                                                                                                \n",
       "4                                                0.8                                                                                                                                \n",
       "5                                                1.2                                                                                                                                \n",
       "6                                                0.0                                                                                                                                \n",
       "7                                                1.4                                                                                                                                \n",
       "8                                                0.1                                                                                                                                \n",
       "9                                                1.1                                                                                                                                \n",
       "\n",
       "0                                                                                  ...                                                                                    \\\n",
       "0                                                                                  ...                                                                                     \n",
       "1                                                                                  ...                                                                                     \n",
       "2                                                                                  ...                                                                                     \n",
       "3                                                                                  ...                                                                                     \n",
       "4                                                                                  ...                                                                                     \n",
       "5                                                                                  ...                                                                                     \n",
       "6                                                                                  ...                                                                                     \n",
       "7                                                                                  ...                                                                                     \n",
       "8                                                                                  ...                                                                                     \n",
       "9                                                                                  ...                                                                                     \n",
       "\n",
       "0 Percent; PERCENTAGE OF FAMILIES AND PEOPLE WHOSE INCOME IN THE PAST 12 MONTHS IS BELOW THE POVERTY LEVEL - All people  \\\n",
       "0                                               20.4                                                                      \n",
       "1                                               30.2                                                                      \n",
       "2                                               10.3                                                                      \n",
       "3                                                6.8                                                                      \n",
       "4                                               10.6                                                                      \n",
       "5                                                8.0                                                                      \n",
       "6                                                3.2                                                                      \n",
       "7                                               22.8                                                                      \n",
       "8                                               14.7                                                                      \n",
       "9                                                8.5                                                                      \n",
       "\n",
       "0 Percent; PERCENTAGE OF FAMILIES AND PEOPLE WHOSE INCOME IN THE PAST 12 MONTHS IS BELOW THE POVERTY LEVEL - Under 18 years  \\\n",
       "0                                               59.5                                                                          \n",
       "1                                               43.2                                                                          \n",
       "2                                                7.6                                                                          \n",
       "3                                               13.6                                                                          \n",
       "4                                                0.0                                                                          \n",
       "5                                                0.0                                                                          \n",
       "6                                                1.1                                                                          \n",
       "7                                               36.1                                                                          \n",
       "8                                               10.8                                                                          \n",
       "9                                                7.6                                                                          \n",
       "\n",
       "0 Percent; PERCENTAGE OF FAMILIES AND PEOPLE WHOSE INCOME IN THE PAST 12 MONTHS IS BELOW THE POVERTY LEVEL - Under 18 years - Related children of the householder under 18 years  \\\n",
       "0                                               59.5                                                                                                                               \n",
       "1                                               43.1                                                                                                                               \n",
       "2                                                6.3                                                                                                                               \n",
       "3                                                5.8                                                                                                                               \n",
       "4                                                0.0                                                                                                                               \n",
       "5                                                0.0                                                                                                                               \n",
       "6                                                1.1                                                                                                                               \n",
       "7                                               36.0                                                                                                                               \n",
       "8                                               10.8                                                                                                                               \n",
       "9                                                7.6                                                                                                                               \n",
       "\n",
       "0 Percent; PERCENTAGE OF FAMILIES AND PEOPLE WHOSE INCOME IN THE PAST 12 MONTHS IS BELOW THE POVERTY LEVEL - Under 18 years - Related children of the householder under 18 years - Related children of the householder under 5 years  \\\n",
       "0                                               18.6                                                                                                                                                                                   \n",
       "1                                               39.4                                                                                                                                                                                   \n",
       "2                                                6.3                                                                                                                                                                                   \n",
       "3                                               11.9                                                                                                                                                                                   \n",
       "4                                                0.0                                                                                                                                                                                   \n",
       "5                                                0.0                                                                                                                                                                                   \n",
       "6                                                0.0                                                                                                                                                                                   \n",
       "7                                               30.3                                                                                                                                                                                   \n",
       "8                                                2.8                                                                                                                                                                                   \n",
       "9                                                7.1                                                                                                                                                                                   \n",
       "\n",
       "0 Percent; PERCENTAGE OF FAMILIES AND PEOPLE WHOSE INCOME IN THE PAST 12 MONTHS IS BELOW THE POVERTY LEVEL - Under 18 years - Related children of the householder under 18 years - Related children of the householder 5 to 17 years  \\\n",
       "0                                               69.3                                                                                                                                                                                   \n",
       "1                                               44.4                                                                                                                                                                                   \n",
       "2                                                6.3                                                                                                                                                                                   \n",
       "3                                                4.0                                                                                                                                                                                   \n",
       "4                                                0.0                                                                                                                                                                                   \n",
       "5                                                0.0                                                                                                                                                                                   \n",
       "6                                                1.5                                                                                                                                                                                   \n",
       "7                                               37.7                                                                                                                                                                                   \n",
       "8                                               17.4                                                                                                                                                                                   \n",
       "9                                                7.8                                                                                                                                                                                   \n",
       "\n",
       "0 Percent; PERCENTAGE OF FAMILIES AND PEOPLE WHOSE INCOME IN THE PAST 12 MONTHS IS BELOW THE POVERTY LEVEL - 18 years and over  \\\n",
       "0                                               14.9                                                                             \n",
       "1                                               27.9                                                                             \n",
       "2                                               10.5                                                                             \n",
       "3                                                5.2                                                                             \n",
       "4                                               11.7                                                                             \n",
       "5                                                9.1                                                                             \n",
       "6                                                3.7                                                                             \n",
       "7                                               21.2                                                                             \n",
       "8                                               15.0                                                                             \n",
       "9                                                8.6                                                                             \n",
       "\n",
       "0 Percent; PERCENTAGE OF FAMILIES AND PEOPLE WHOSE INCOME IN THE PAST 12 MONTHS IS BELOW THE POVERTY LEVEL - 18 to 64 years  \\\n",
       "0                                               15.9                                                                          \n",
       "1                                               26.1                                                                          \n",
       "2                                               10.4                                                                          \n",
       "3                                                5.4                                                                          \n",
       "4                                               11.8                                                                          \n",
       "5                                                9.1                                                                          \n",
       "6                                                3.4                                                                          \n",
       "7                                               20.7                                                                          \n",
       "8                                               15.2                                                                          \n",
       "9                                                8.6                                                                          \n",
       "\n",
       "0 Percent; PERCENTAGE OF FAMILIES AND PEOPLE WHOSE INCOME IN THE PAST 12 MONTHS IS BELOW THE POVERTY LEVEL - 65 years and over  \\\n",
       "0                                                8.6                                                                             \n",
       "1                                               35.0                                                                             \n",
       "2                                               11.0                                                                             \n",
       "3                                                1.7                                                                             \n",
       "4                                                0.0                                                                             \n",
       "5                                                  -                                                                             \n",
       "6                                               10.2                                                                             \n",
       "7                                               24.1                                                                             \n",
       "8                                               14.0                                                                             \n",
       "9                                                8.2                                                                             \n",
       "\n",
       "0 Percent; PERCENTAGE OF FAMILIES AND PEOPLE WHOSE INCOME IN THE PAST 12 MONTHS IS BELOW THE POVERTY LEVEL - 65 years and over - People in families  \\\n",
       "0                                               23.6                                                                                                  \n",
       "1                                               30.5                                                                                                  \n",
       "2                                                4.1                                                                                                  \n",
       "3                                                2.5                                                                                                  \n",
       "4                                                0.2                                                                                                  \n",
       "5                                                1.6                                                                                                  \n",
       "6                                                1.5                                                                                                  \n",
       "7                                               21.5                                                                                                  \n",
       "8                                                5.6                                                                                                  \n",
       "9                                                4.6                                                                                                  \n",
       "\n",
       "0 Percent; PERCENTAGE OF FAMILIES AND PEOPLE WHOSE INCOME IN THE PAST 12 MONTHS IS BELOW THE POVERTY LEVEL - 65 years and over - Unrelated individuals 15 years and over  \n",
       "0                                               17.2                                                                                                                      \n",
       "1                                               29.7                                                                                                                      \n",
       "2                                               14.2                                                                                                                      \n",
       "3                                               12.1                                                                                                                      \n",
       "4                                               17.6                                                                                                                      \n",
       "5                                               12.2                                                                                                                      \n",
       "6                                                6.8                                                                                                                      \n",
       "7                                               24.4                                                                                                                      \n",
       "8                                               21.1                                                                                                                      \n",
       "9                                               11.8                                                                                                                      \n",
       "\n",
       "[10 rows x 519 columns]"
      ]
     },
     "execution_count": 50,
     "metadata": {},
     "output_type": "execute_result"
    }
   ],
   "source": [
    "census.head(10)"
   ]
  },
  {
   "cell_type": "code",
   "execution_count": 52,
   "metadata": {
    "scrolled": true
   },
   "outputs": [
    {
     "data": {
      "text/plain": [
       "519"
      ]
     },
     "execution_count": 52,
     "metadata": {},
     "output_type": "execute_result"
    }
   ],
   "source": [
    "len(census.columns)"
   ]
  },
  {
   "cell_type": "code",
   "execution_count": null,
   "metadata": {
    "collapsed": true
   },
   "outputs": [],
   "source": [
    "census.replace('-', 0, inplace=True)"
   ]
  },
  {
   "cell_type": "code",
   "execution_count": 85,
   "metadata": {
    "collapsed": true
   },
   "outputs": [],
   "source": [
    "census.replace('X', 0, inplace=True)"
   ]
  },
  {
   "cell_type": "code",
   "execution_count": 87,
   "metadata": {
    "collapsed": true
   },
   "outputs": [],
   "source": [
    "census.replace('(X)', 0, inplace=True)"
   ]
  },
  {
   "cell_type": "code",
   "execution_count": 89,
   "metadata": {
    "collapsed": true
   },
   "outputs": [],
   "source": [
    "census.replace('N', 0, inplace=True)"
   ]
  },
  {
   "cell_type": "code",
   "execution_count": 91,
   "metadata": {
    "collapsed": true
   },
   "outputs": [],
   "source": [
    "census.iloc[:, 3:] = census.iloc[:, 3:].apply(pd.to_numeric)"
   ]
  },
  {
   "cell_type": "code",
   "execution_count": 95,
   "metadata": {},
   "outputs": [
    {
     "data": {
      "text/plain": [
       "0\n",
       "Id                                                                                                                                                                                                                                                                                          object\n",
       "Id2                                                                                                                                                                                                                                                                                         object\n",
       "Geography                                                                                                                                                                                                                                                                                   object\n",
       "Percent; HOUSEHOLDS BY TYPE - Total households                                                                                                                                                                                                                                               int64\n",
       "Percent; HOUSEHOLDS BY TYPE - Total households - Family households (families)                                                                                                                                                                                                              float64\n",
       "Percent; HOUSEHOLDS BY TYPE - Total households - Family households (families) - With own children of the householder under 18 years                                                                                                                                                        float64\n",
       "Percent; HOUSEHOLDS BY TYPE - Total households - Family households (families) - Married-couple family                                                                                                                                                                                      float64\n",
       "Percent; HOUSEHOLDS BY TYPE - Total households - Family households (families) - Married-couple family - With own children of the householder under 18 years                                                                                                                                float64\n",
       "Percent; HOUSEHOLDS BY TYPE - Total households - Family households (families) - Male householder, no wife present, family                                                                                                                                                                  float64\n",
       "Percent; HOUSEHOLDS BY TYPE - Total households - Family households (families) - Male householder, no wife present, family - With own children of the householder under 18 years                                                                                                            float64\n",
       "Percent; HOUSEHOLDS BY TYPE - Total households - Family households (families) - Female householder, no husband present, family                                                                                                                                                             float64\n",
       "Percent; HOUSEHOLDS BY TYPE - Total households - Family households (families) - Female householder, no husband present, family - With own children of the householder under 18 years                                                                                                       float64\n",
       "Percent; HOUSEHOLDS BY TYPE - Total households - Nonfamily households                                                                                                                                                                                                                      float64\n",
       "Percent; HOUSEHOLDS BY TYPE - Total households - Nonfamily households - Householder living alone                                                                                                                                                                                           float64\n",
       "Percent; HOUSEHOLDS BY TYPE - Total households - Nonfamily households - Householder living alone - 65 years and over                                                                                                                                                                       float64\n",
       "Percent; HOUSEHOLDS BY TYPE - Households with one or more people under 18 years                                                                                                                                                                                                            float64\n",
       "Percent; HOUSEHOLDS BY TYPE - Households with one or more people 65 years and over                                                                                                                                                                                                         float64\n",
       "Percent; HOUSEHOLDS BY TYPE - Average household size                                                                                                                                                                                                                                         int64\n",
       "Percent; HOUSEHOLDS BY TYPE - Average family size                                                                                                                                                                                                                                            int64\n",
       "Percent; RELATIONSHIP - Population in households                                                                                                                                                                                                                                             int64\n",
       "Percent; RELATIONSHIP - Population in households - Householder                                                                                                                                                                                                                             float64\n",
       "Percent; RELATIONSHIP - Population in households - Spouse                                                                                                                                                                                                                                  float64\n",
       "Percent; RELATIONSHIP - Population in households - Child                                                                                                                                                                                                                                   float64\n",
       "Percent; RELATIONSHIP - Population in households - Other relatives                                                                                                                                                                                                                         float64\n",
       "Percent; RELATIONSHIP - Population in households - Nonrelatives                                                                                                                                                                                                                            float64\n",
       "Percent; RELATIONSHIP - Population in households - Nonrelatives - Unmarried partner                                                                                                                                                                                                        float64\n",
       "Percent; MARITAL STATUS - Males 15 years and over                                                                                                                                                                                                                                            int64\n",
       "Percent; MARITAL STATUS - Males 15 years and over - Never married                                                                                                                                                                                                                          float64\n",
       "Percent; MARITAL STATUS - Males 15 years and over - Now married, except separated                                                                                                                                                                                                          float64\n",
       "Percent; MARITAL STATUS - Males 15 years and over - Separated                                                                                                                                                                                                                              float64\n",
       "                                                                                                                                                                                                                                                                                            ...   \n",
       "Percent; HEALTH INSURANCE COVERAGE - Civilian noninstitutionalized population 18 to 64 years - In labor force: - Employed: - No health insurance coverage                                                                                                                                  float64\n",
       "Percent; HEALTH INSURANCE COVERAGE - Civilian noninstitutionalized population 18 to 64 years - In labor force: - Unemployed:                                                                                                                                                                 int64\n",
       "Percent; HEALTH INSURANCE COVERAGE - Civilian noninstitutionalized population 18 to 64 years - In labor force: - Unemployed: - With health insurance coverage                                                                                                                              float64\n",
       "Percent; HEALTH INSURANCE COVERAGE - Civilian noninstitutionalized population 18 to 64 years - In labor force: - Unemployed: - With health insurance coverage - With private health insurance                                                                                              float64\n",
       "Percent; HEALTH INSURANCE COVERAGE - Civilian noninstitutionalized population 18 to 64 years - In labor force: - Unemployed: - With health insurance coverage - With public coverage                                                                                                       float64\n",
       "Percent; HEALTH INSURANCE COVERAGE - Civilian noninstitutionalized population 18 to 64 years - In labor force: - Unemployed: - No health insurance coverage                                                                                                                                float64\n",
       "Percent; HEALTH INSURANCE COVERAGE - Civilian noninstitutionalized population 18 to 64 years - Not in labor force:                                                                                                                                                                           int64\n",
       "Percent; HEALTH INSURANCE COVERAGE - Civilian noninstitutionalized population 18 to 64 years - Not in labor force: - With health insurance coverage                                                                                                                                        float64\n",
       "Percent; HEALTH INSURANCE COVERAGE - Civilian noninstitutionalized population 18 to 64 years - Not in labor force: - With health insurance coverage - With private health insurance                                                                                                        float64\n",
       "Percent; HEALTH INSURANCE COVERAGE - Civilian noninstitutionalized population 18 to 64 years - Not in labor force: - With health insurance coverage - With public coverage                                                                                                                 float64\n",
       "Percent; HEALTH INSURANCE COVERAGE - Civilian noninstitutionalized population 18 to 64 years - Not in labor force: - No health insurance coverage                                                                                                                                          float64\n",
       "Percent; PERCENTAGE OF FAMILIES AND PEOPLE WHOSE INCOME IN THE PAST 12 MONTHS IS BELOW THE POVERTY LEVEL - All families                                                                                                                                                                    float64\n",
       "Percent; PERCENTAGE OF FAMILIES AND PEOPLE WHOSE INCOME IN THE PAST 12 MONTHS IS BELOW THE POVERTY LEVEL - All families - With related children of the householder under 18 years                                                                                                          float64\n",
       "Percent; PERCENTAGE OF FAMILIES AND PEOPLE WHOSE INCOME IN THE PAST 12 MONTHS IS BELOW THE POVERTY LEVEL - All families - With related children of the householder under 18 years - With related children of the householder under 5 years only                                            float64\n",
       "Percent; PERCENTAGE OF FAMILIES AND PEOPLE WHOSE INCOME IN THE PAST 12 MONTHS IS BELOW THE POVERTY LEVEL - Married couple families                                                                                                                                                         float64\n",
       "Percent; PERCENTAGE OF FAMILIES AND PEOPLE WHOSE INCOME IN THE PAST 12 MONTHS IS BELOW THE POVERTY LEVEL - Married couple families - With related children of the householder under 18 years                                                                                               float64\n",
       "Percent; PERCENTAGE OF FAMILIES AND PEOPLE WHOSE INCOME IN THE PAST 12 MONTHS IS BELOW THE POVERTY LEVEL - Married couple families - With related children of the householder under 18 years - With related children of the householder under 5 years only                                 float64\n",
       "Percent; PERCENTAGE OF FAMILIES AND PEOPLE WHOSE INCOME IN THE PAST 12 MONTHS IS BELOW THE POVERTY LEVEL - Families with female householder, no husband present                                                                                                                            float64\n",
       "Percent; PERCENTAGE OF FAMILIES AND PEOPLE WHOSE INCOME IN THE PAST 12 MONTHS IS BELOW THE POVERTY LEVEL - Families with female householder, no husband present - With related children of the householder under 18 years                                                                  float64\n",
       "Percent; PERCENTAGE OF FAMILIES AND PEOPLE WHOSE INCOME IN THE PAST 12 MONTHS IS BELOW THE POVERTY LEVEL - Families with female householder, no husband present - With related children of the householder under 18 years - With related children of the householder under 5 years only    float64\n",
       "Percent; PERCENTAGE OF FAMILIES AND PEOPLE WHOSE INCOME IN THE PAST 12 MONTHS IS BELOW THE POVERTY LEVEL - All people                                                                                                                                                                      float64\n",
       "Percent; PERCENTAGE OF FAMILIES AND PEOPLE WHOSE INCOME IN THE PAST 12 MONTHS IS BELOW THE POVERTY LEVEL - Under 18 years                                                                                                                                                                  float64\n",
       "Percent; PERCENTAGE OF FAMILIES AND PEOPLE WHOSE INCOME IN THE PAST 12 MONTHS IS BELOW THE POVERTY LEVEL - Under 18 years - Related children of the householder under 18 years                                                                                                             float64\n",
       "Percent; PERCENTAGE OF FAMILIES AND PEOPLE WHOSE INCOME IN THE PAST 12 MONTHS IS BELOW THE POVERTY LEVEL - Under 18 years - Related children of the householder under 18 years - Related children of the householder under 5 years                                                         float64\n",
       "Percent; PERCENTAGE OF FAMILIES AND PEOPLE WHOSE INCOME IN THE PAST 12 MONTHS IS BELOW THE POVERTY LEVEL - Under 18 years - Related children of the householder under 18 years - Related children of the householder 5 to 17 years                                                         float64\n",
       "Percent; PERCENTAGE OF FAMILIES AND PEOPLE WHOSE INCOME IN THE PAST 12 MONTHS IS BELOW THE POVERTY LEVEL - 18 years and over                                                                                                                                                               float64\n",
       "Percent; PERCENTAGE OF FAMILIES AND PEOPLE WHOSE INCOME IN THE PAST 12 MONTHS IS BELOW THE POVERTY LEVEL - 18 to 64 years                                                                                                                                                                  float64\n",
       "Percent; PERCENTAGE OF FAMILIES AND PEOPLE WHOSE INCOME IN THE PAST 12 MONTHS IS BELOW THE POVERTY LEVEL - 65 years and over                                                                                                                                                               float64\n",
       "Percent; PERCENTAGE OF FAMILIES AND PEOPLE WHOSE INCOME IN THE PAST 12 MONTHS IS BELOW THE POVERTY LEVEL - 65 years and over - People in families                                                                                                                                          float64\n",
       "Percent; PERCENTAGE OF FAMILIES AND PEOPLE WHOSE INCOME IN THE PAST 12 MONTHS IS BELOW THE POVERTY LEVEL - 65 years and over - Unrelated individuals 15 years and over                                                                                                                     float64\n",
       "Length: 519, dtype: object"
      ]
     },
     "execution_count": 95,
     "metadata": {},
     "output_type": "execute_result"
    }
   ],
   "source": [
    "census.dtypes"
   ]
  },
  {
   "cell_type": "code",
   "execution_count": 98,
   "metadata": {
    "collapsed": true
   },
   "outputs": [],
   "source": [
    "census.to_csv('census_zip.csv')"
   ]
  },
  {
   "cell_type": "code",
   "execution_count": null,
   "metadata": {
    "collapsed": true
   },
   "outputs": [],
   "source": []
  }
 ],
 "metadata": {
  "anaconda-cloud": {},
  "kernelspec": {
   "display_name": "Python [default]",
   "language": "python",
   "name": "python2"
  },
  "language_info": {
   "codemirror_mode": {
    "name": "ipython",
    "version": 2
   },
   "file_extension": ".py",
   "mimetype": "text/x-python",
   "name": "python",
   "nbconvert_exporter": "python",
   "pygments_lexer": "ipython2",
   "version": "2.7.12"
  }
 },
 "nbformat": 4,
 "nbformat_minor": 2
}
